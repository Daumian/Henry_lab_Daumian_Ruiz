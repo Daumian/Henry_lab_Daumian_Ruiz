{
 "cells": [
  {
   "cell_type": "code",
   "execution_count": 1,
   "metadata": {},
   "outputs": [],
   "source": [
    "import pandas as pd"
   ]
  },
  {
   "cell_type": "code",
   "execution_count": 2,
   "metadata": {},
   "outputs": [],
   "source": [
    "amazon_df = pd.read_csv('df_limpios\\DF_Amazon.csv')\n",
    "disney_df = pd.read_csv('df_limpios\\DF_Disney.csv')\n",
    "hulu_df = pd.read_csv('df_limpios\\DF_Hulu.csv')\n",
    "netflix_df = pd.read_csv('df_limpios\\DF_Netflix.csv')"
   ]
  },
  {
   "cell_type": "code",
   "execution_count": 32,
   "metadata": {},
   "outputs": [
    {
     "data": {
      "text/html": [
       "<div>\n",
       "<style scoped>\n",
       "    .dataframe tbody tr th:only-of-type {\n",
       "        vertical-align: middle;\n",
       "    }\n",
       "\n",
       "    .dataframe tbody tr th {\n",
       "        vertical-align: top;\n",
       "    }\n",
       "\n",
       "    .dataframe thead th {\n",
       "        text-align: right;\n",
       "    }\n",
       "</style>\n",
       "<table border=\"1\" class=\"dataframe\">\n",
       "  <thead>\n",
       "    <tr style=\"text-align: right;\">\n",
       "      <th></th>\n",
       "      <th>id</th>\n",
       "      <th>show_id</th>\n",
       "      <th>type</th>\n",
       "      <th>title</th>\n",
       "      <th>director</th>\n",
       "      <th>cast</th>\n",
       "      <th>country</th>\n",
       "      <th>date_added</th>\n",
       "      <th>release_year</th>\n",
       "      <th>rating</th>\n",
       "      <th>listed_in</th>\n",
       "      <th>description</th>\n",
       "      <th>duration_int</th>\n",
       "      <th>duration_type</th>\n",
       "    </tr>\n",
       "  </thead>\n",
       "  <tbody>\n",
       "    <tr>\n",
       "      <th>0</th>\n",
       "      <td>ts1</td>\n",
       "      <td>s1</td>\n",
       "      <td>movie</td>\n",
       "      <td>the grand seduction</td>\n",
       "      <td>don mckellar</td>\n",
       "      <td>brendan gleeson, taylor kitsch, gordon pinsent</td>\n",
       "      <td>canada</td>\n",
       "      <td>2021-03-30</td>\n",
       "      <td>2014</td>\n",
       "      <td>g</td>\n",
       "      <td>comedy, drama</td>\n",
       "      <td>a small fishing village must procure a local d...</td>\n",
       "      <td>113</td>\n",
       "      <td>min</td>\n",
       "    </tr>\n",
       "  </tbody>\n",
       "</table>\n",
       "</div>"
      ],
      "text/plain": [
       "    id show_id   type                title      director  \\\n",
       "0  ts1      s1  movie  the grand seduction  don mckellar   \n",
       "\n",
       "                                             cast country  date_added  \\\n",
       "0  brendan gleeson, taylor kitsch, gordon pinsent  canada  2021-03-30   \n",
       "\n",
       "   release_year rating      listed_in  \\\n",
       "0          2014      g  comedy, drama   \n",
       "\n",
       "                                         description  duration_int  \\\n",
       "0  a small fishing village must procure a local d...           113   \n",
       "\n",
       "  duration_type  \n",
       "0           min  "
      ]
     },
     "execution_count": 32,
     "metadata": {},
     "output_type": "execute_result"
    }
   ],
   "source": [
    "amazon_df.head(1)"
   ]
  },
  {
   "cell_type": "code",
   "execution_count": 28,
   "metadata": {},
   "outputs": [],
   "source": [
    "def contar_datos(dataframe):\n",
    "   if dataframe == \"1\" or dataframe == \"amazon\":\n",
    "      cant_peliculas =amazon_df[amazon_df[\"type\"] == \"movie\"]\n",
    "      return cant_peliculas.shape[0]\n",
    "   elif dataframe == \"2\" or dataframe == \"netflix\":\n",
    "      cant_peliculas =netflix_df[netflix_df[\"type\"] == \"movie\"]\n",
    "      return cant_peliculas.shape[0]\n",
    "   elif dataframe == \"3\" or dataframe == \"disney\":\n",
    "      cant_peliculas =disney_df[disney_df[\"type\"] == \"movie\"]\n",
    "      return cant_peliculas.shape[0]\n",
    "   elif dataframe == \"4\" or dataframe == \"hulu\":\n",
    "      cant_peliculas =hulu_df[hulu_df[\"type\"] == \"movie\"]\n",
    "      return cant_peliculas.shape[0]\n",
    "   else:\n",
    "      return \"error:plataforma incorrecta\""
   ]
  },
  {
   "cell_type": "code",
   "execution_count": null,
   "metadata": {},
   "outputs": [],
   "source": [
    "def contar_peliculas(dataframe):\n",
    "   #este def contara solo las \"movie\" de cada plataforma, y las devolvera\n",
    "   if dataframe == \"1\" or dataframe == \"amazon\":\n",
    "      cant_peliculas =amazon_df[amazon_df[\"type\"] == \"movie\"]\n",
    "      return cant_peliculas.shape[0]\n",
    "   elif dataframe == \"2\" or dataframe == \"netflix\":\n",
    "      cant_peliculas =netflix_df[netflix_df[\"type\"] == \"movie\"]\n",
    "      return cant_peliculas.shape[0]\n",
    "   elif dataframe == \"3\" or dataframe == \"disney\":\n",
    "      cant_peliculas =disney_df[disney_df[\"type\"] == \"movie\"]\n",
    "      return cant_peliculas.shape[0]\n",
    "   elif dataframe == \"4\" or dataframe == \"hulu\":\n",
    "      cant_peliculas =hulu_df[hulu_df[\"type\"] == \"movie\"]\n",
    "      return cant_peliculas.shape[0]\n",
    "   else:\n",
    "      return \"error:plataforma incorrecta\""
   ]
  },
  {
   "cell_type": "code",
   "execution_count": 31,
   "metadata": {},
   "outputs": [
    {
     "data": {
      "text/plain": [
       "1484"
      ]
     },
     "execution_count": 31,
     "metadata": {},
     "output_type": "execute_result"
    }
   ],
   "source": [
    "contar_datos(str(\"4\"))"
   ]
  }
 ],
 "metadata": {
  "kernelspec": {
   "display_name": "Python 3",
   "language": "python",
   "name": "python3"
  },
  "language_info": {
   "codemirror_mode": {
    "name": "ipython",
    "version": 3
   },
   "file_extension": ".py",
   "mimetype": "text/x-python",
   "name": "python",
   "nbconvert_exporter": "python",
   "pygments_lexer": "ipython3",
   "version": "3.10.11"
  },
  "orig_nbformat": 4
 },
 "nbformat": 4,
 "nbformat_minor": 2
}
